{
  "nbformat": 4,
  "nbformat_minor": 0,
  "metadata": {
    "colab": {
      "name": "Copy of DeltaRule.ipynb",
      "provenance": [],
      "collapsed_sections": [],
      "toc_visible": true,
      "include_colab_link": true
    },
    "kernelspec": {
      "display_name": "Python 3",
      "language": "python",
      "name": "python3"
    }
  },
  "cells": [
    {
      "cell_type": "markdown",
      "metadata": {
        "id": "view-in-github",
        "colab_type": "text"
      },
      "source": [
        "<a href=\"https://colab.research.google.com/github/AlinaSkripets/Project-2/blob/master/Copy_of_DeltaRule.ipynb\" target=\"_parent\"><img src=\"https://colab.research.google.com/assets/colab-badge.svg\" alt=\"Open In Colab\"/></a>"
      ]
    },
    {
      "cell_type": "markdown",
      "metadata": {
        "id": "2Z6O1zu_pRH8",
        "colab_type": "text"
      },
      "source": [
        "# Training a linear threshold neuron with the delta rule\n",
        "A neuron is trained to detect images of \"two\"s using the MNIST dataset."
      ]
    },
    {
      "cell_type": "markdown",
      "metadata": {
        "id": "TjRiEPoAKAK4",
        "colab_type": "text"
      },
      "source": [
        "Imports, plotting inline. \n",
        "Supplying seed for pseudorandom number generator makes the numerical experiment reproducible."
      ]
    },
    {
      "cell_type": "code",
      "metadata": {
        "id": "c96joZhuKAK6",
        "colab_type": "code",
        "colab": {}
      },
      "source": [
        "import torch \n",
        "import torchvision\n",
        "import numpy as np\n",
        "\n",
        "import matplotlib.pyplot as plt \n",
        "\n",
        "from IPython import display \n",
        "import time\n",
        "\n",
        "%matplotlib inline\n",
        "plt.rcParams['image.cmap'] = 'gray'\n",
        "np.random.seed(seed = 485)        # the seed determines the pseudorandom order in which examples are presented to the neuron"
      ],
      "execution_count": 0,
      "outputs": []
    },
    {
      "cell_type": "markdown",
      "metadata": {
        "id": "pn7leBQwKALC",
        "colab_type": "text"
      },
      "source": [
        "\n",
        "Set up training images and labels.<br>\n",
        "Extract number of training images (60000) and image size (28x28)."
      ]
    },
    {
      "cell_type": "code",
      "metadata": {
        "id": "cg7uIRGSKALC",
        "colab_type": "code",
        "outputId": "d0a49d51-75ce-4940-bad4-731e01166f72",
        "colab": {
          "base_uri": "https://localhost:8080/",
          "height": 34
        }
      },
      "source": [
        "\n",
        "\n",
        "\n",
        "\n",
        "mnist_train = torchvision.datasets.MNIST(root='data', train=True, download=True)     # train data only\n",
        "trainimages = mnist_train.data\n",
        "trainlabels = mnist_train.targets\n",
        "(ntrain, nrow, ncol) = trainimages.size()\n",
        "npix = nrow*ncol \n",
        "npix                          # number of pixels in one image"
      ],
      "execution_count": 16,
      "outputs": [
        {
          "output_type": "execute_result",
          "data": {
            "text/plain": [
              "784"
            ]
          },
          "metadata": {
            "tags": []
          },
          "execution_count": 16
        }
      ]
    },
    {
      "cell_type": "markdown",
      "metadata": {
        "id": "I4ZWQc6qKAK-",
        "colab_type": "text"
      },
      "source": [
        "\n",
        "\n",
        "**Initialize** the weight vector and bias of the neuron. Set the learning rate hyperparameter."
      ]
    },
    {
      "cell_type": "code",
      "metadata": {
        "id": "3cXVdjehKAK_",
        "colab_type": "code",
        "colab": {}
      },
      "source": [
        "\n",
        "\n",
        "\n",
        "eta = 0.1  # learning rate parameter\n",
        "epsinit = 0.1  # initial scale of synaptic weights\n",
        "w = epsinit*(torch.rand(npix) - 0.5)  # random initialization of weights in [-0.5, 0.5]\n",
        "b = 0.0    # initialize bias to zero\n",
        "\n",
        "errcl = torch.zeros(ntrain)    # binary vector indicating error/correct at time t"
      ],
      "execution_count": 0,
      "outputs": []
    },
    {
      "cell_type": "markdown",
      "metadata": {
        "id": "cvPJ6HaKKALF",
        "colab_type": "text"
      },
      "source": [
        "Function to visualize training (displays the weight vector, input vector, and running average of the classification error)."
      ]
    },
    {
      "cell_type": "code",
      "metadata": {
        "id": "3maIjbhzKALG",
        "colab_type": "code",
        "colab": {}
      },
      "source": [
        "def visualize(t, errcl, w, x):\n",
        "    errorrate = np.divide(\n",
        "        np.cumsum(errcl[range(t)]),\n",
        "        range(1, t + 1)\n",
        "    )\n",
        "\n",
        "    cumloss = np.divide(\n",
        "        np.cumsum(loss[range(t)]),\n",
        "        range(1, t + 1)\n",
        "    )\n",
        "\n",
        "    display.clear_output(wait = True)\n",
        "\n",
        "    plt.subplot(1, 4, 1)\n",
        "    plt.matshow(w.view((28,28)), fignum = False)\n",
        "    plt.axis('off')\n",
        "    plt.title(\"weight vector at t = {:d}\".format(t))\n",
        "\n",
        "    plt.subplot(1, 4, 2)\n",
        "    plt.matshow(x.view((28,28)), fignum = False)\n",
        "    plt.axis('off')\n",
        "    plt.title(\"input vector\")\n",
        "\n",
        "    plt.subplot(1, 4, 3)\n",
        "    plt.plot(errorrate, color='red')\n",
        "    plt.title(\"average error = {:.4f}\".format(errorrate[t-1]))\n",
        "    plt.ylim(0, 1)\n",
        "    plt.xlabel('time')\n",
        "    plt.ylabel('classification error')\n",
        "\n",
        "    plt.subplot(1, 4, 4)\n",
        "    plt.plot(cumloss, color='blue')\n",
        "    plt.title(\"Cumulative loss = {:.4f}\".format(cumloss[t-1]))\n",
        "    plt.ylim(0, 1)\n",
        "    plt.xlabel('time')\n",
        "    plt.ylabel('Loss')\n",
        "\n",
        "\n",
        "\n",
        "    plt.subplots_adjust(wspace = 0.5)\n",
        "\n",
        "    plt.gcf().set_size_inches(12, 4)\n",
        "    display.display(plt.gcf())"
      ],
      "execution_count": 0,
      "outputs": []
    },
    {
      "cell_type": "markdown",
      "metadata": {
        "id": "GAxIF0SFKALJ",
        "colab_type": "text"
      },
      "source": [
        "One epoch iterating through all training examples in random order."
      ]
    },
    {
      "cell_type": "markdown",
      "metadata": {
        "id": "bBYzHUxtVVvb",
        "colab_type": "text"
      },
      "source": [
        "\n",
        "\n",
        "**The sample code trains an LT neuron to be activated by images of “two” while remaining inactive for images of other digits. When you run the code, you should see time-varying images of the weight vector, and the input vector. You will also see a learning curve, defined as the cumulative time average of the classification error versus time. What is the final value of this time-averaged classification error?**\n"
      ]
    },
    {
      "cell_type": "markdown",
      "metadata": {
        "id": "t64ygARMV8q2",
        "colab_type": "text"
      },
      "source": [
        "The final time-avereged classification error is 0.0385. "
      ]
    },
    {
      "cell_type": "markdown",
      "metadata": {
        "id": "E0SUWl1YWNg6",
        "colab_type": "text"
      },
      "source": [
        "**In class we derived the loss function for the LT neuron delta rule. Modify the code so that it additionally plots another learning curve, the cumulative time average of the loss function versus time.**"
      ]
    },
    {
      "cell_type": "code",
      "metadata": {
        "id": "CCriHe0yWPTV",
        "colab_type": "code",
        "colab": {
          "base_uri": "https://localhost:8080/",
          "height": 295
        },
        "outputId": "0fcbbe9d-838d-445b-d9fb-c5f6c63af2cc"
      },
      "source": [
        "loss = torch.zeros(ntrain)    # loss function\n",
        "\n",
        "t = 0             # for counting time\n",
        "tshow = 10000      # how often to visualize\n",
        "classtodetect = 2 # which digit class to detect\n",
        "for i in torch.randperm(ntrain):     # iterate over the train steps\n",
        "    x = trainimages[i].view(-1)                # flatten image\n",
        "    x = x.float() / 255.0                      # normalize max value to one \n",
        "    desired = np.float64(trainlabels[i] == classtodetect)  # get true label as a float\n",
        "    actual = np.float64(torch.sum(w*x) + b > 0)\n",
        "    delta = desired - actual\n",
        "    errcl[t] = abs(desired - actual)           # error between true and predicted\n",
        "    loss[t] = abs(desired-actual)*abs(torch.sum(w*x))\n",
        "    t += 1\n",
        "    w += eta * delta * x                       # weight update\n",
        "    b += eta * delta                           # bias update\n",
        "    if t % tshow == 0:    # visualize every tshow steps\n",
        "        visualize(t, errcl.numpy(), w, x)   \n",
        "        time.sleep(0.01)\n",
        "\n",
        "display.clear_output(wait=True)"
      ],
      "execution_count": 19,
      "outputs": [
        {
          "output_type": "display_data",
          "data": {
            "image/png": "[encoded data removed]",
            "text/plain": [
              "<Figure size 864x288 with 4 Axes>"
            ]
          },
          "metadata": {
            "tags": []
          }
        }
      ]
    },
    {
      "cell_type": "markdown",
      "metadata": {
        "id": "-YDyuG-fiajQ",
        "colab_type": "text"
      },
      "source": [
        "**After training a model in machine learning, you’ll want to know whether your results are good or bad. It’s often helpful to compare with the performance of simple “baseline” models. For example, a simple baseline here is the trivial recognition algorithm that always returns an output of 0. What would be the classification error for this algorithm?**"
      ]
    },
    {
      "cell_type": "code",
      "metadata": {
        "id": "0wYTnhxlix5O",
        "colab_type": "code",
        "colab": {
          "base_uri": "https://localhost:8080/",
          "height": 34
        },
        "outputId": "8e400e3e-6be0-4fd2-92bc-70fb7e550884"
      },
      "source": [
        "error = np.float64(torch.sum(trainlabels == 2))\n",
        "error/len(trainlabels)"
      ],
      "execution_count": 20,
      "outputs": [
        {
          "output_type": "execute_result",
          "data": {
            "text/plain": [
              "0.0993"
            ]
          },
          "metadata": {
            "tags": []
          },
          "execution_count": 20
        }
      ]
    },
    {
      "cell_type": "markdown",
      "metadata": {
        "id": "l756n9kMjCcM",
        "colab_type": "text"
      },
      "source": [
        "The baseline model is the model that predicts every image to not be a 2. Then, we get the error of 0.1986. Our neural net performs much better: only 0.03 error.\n"
      ]
    },
    {
      "cell_type": "markdown",
      "metadata": {
        "id": "bY6QQufJAd86",
        "colab_type": "text"
      },
      "source": [
        "The 10000 test examples for use in the homework assignment."
      ]
    },
    {
      "cell_type": "code",
      "metadata": {
        "id": "vDU5NpPF__Z2",
        "colab_type": "code",
        "colab": {
          "base_uri": "https://localhost:8080/",
          "height": 34
        },
        "outputId": "73c52848-a1ff-4bba-a98a-7f0ac65b2add"
      },
      "source": [
        "mnist_test = torchvision.datasets.MNIST(root='data', train=False, download=True) # test data only\n",
        "testimages = mnist_test.data\n",
        "testlabels = mnist_test.targets\n",
        "(ntest, nrow, ncol) = testimages.size()\n",
        "npix = nrow*ncol \n",
        "npix      "
      ],
      "execution_count": 21,
      "outputs": [
        {
          "output_type": "execute_result",
          "data": {
            "text/plain": [
              "784"
            ]
          },
          "metadata": {
            "tags": []
          },
          "execution_count": 21
        }
      ]
    },
    {
      "cell_type": "markdown",
      "metadata": {
        "id": "cgnAkPO5jdLj",
        "colab_type": "text"
      },
      "source": [
        "\n",
        "\n",
        "**Compute the classification error in the test set (the last cell of the notebook shows how to set up the test set).**\n"
      ]
    },
    {
      "cell_type": "code",
      "metadata": {
        "id": "osiUNiKmNJ_0",
        "colab_type": "code",
        "colab": {
          "base_uri": "https://localhost:8080/",
          "height": 34
        },
        "outputId": "f4ee8f72-e2cb-49d1-e3ab-c8e72ef0695d"
      },
      "source": [
        "error = np.float64(torch.sum(testlabels == 2))\n",
        "error/len(testlabels)"
      ],
      "execution_count": 22,
      "outputs": [
        {
          "output_type": "execute_result",
          "data": {
            "text/plain": [
              "0.1032"
            ]
          },
          "metadata": {
            "tags": []
          },
          "execution_count": 22
        }
      ]
    },
    {
      "cell_type": "code",
      "metadata": {
        "id": "CKAsFFZfVa9w",
        "colab_type": "code",
        "colab": {
          "base_uri": "https://localhost:8080/",
          "height": 34
        },
        "outputId": "f4bf6d4c-eed4-43fc-e685-b6d01f01f046"
      },
      "source": [
        "t = 0             # for counting time\n",
        "classtodetect = 2 # which digit class to detect\n",
        "err = torch.zeros(ntest)\n",
        "\n",
        "\n",
        "for i in torch.randperm(ntest):     # iterate over the train steps\n",
        "    x = testimages[i].view(-1)                # flatten image\n",
        "    x = x.float() / 255.0                      # normalize max value to one \n",
        "    desired = np.float64(testlabels[i] == classtodetect)  # get true label as a float\n",
        "    actual = np.float64(torch.sum(w*x) + b > 0)\n",
        "    err[i] = abs(desired - actual) \n",
        "\n",
        "print(torch.sum(err)/ntest)\n"
      ],
      "execution_count": 23,
      "outputs": [
        {
          "output_type": "stream",
          "text": [
            "tensor(0.0240)\n"
          ],
          "name": "stdout"
        }
      ]
    },
    {
      "cell_type": "markdown",
      "metadata": {
        "id": "jLGnyYocqTFB",
        "colab_type": "text"
      },
      "source": [
        "**Train 10 model neurons to detect the 10 digit classes by applying the multiclass softmax algorithm that you derived above. The predicted class can be defined as the neuron for which the softmax output is largest. If the prediction disagrees with the true digit class, that constitutes a classification error. Use torch.nn.Softmax to compute the softmax. \n",
        "Your code should plot a learning curve, the cumulative time average of the classification error versus time. What is the final value? Your code should visualize the ten learned weight vectors displayed as images. Add other visualizations that are helpful for monitoring the progress of learning and evaluating the final result.**"
      ]
    },
    {
      "cell_type": "markdown",
      "metadata": {
        "id": "zCWs70zNfK83",
        "colab_type": "text"
      },
      "source": [
        "The final error value is 0.145. "
      ]
    },
    {
      "cell_type": "code",
      "metadata": {
        "id": "DedBWJ8Uq-aS",
        "colab_type": "code",
        "colab": {}
      },
      "source": [
        "mnist_train = torchvision.datasets.MNIST(root='data', train=True, download=True)     # train data only\n",
        "trainimages = mnist_train.data\n",
        "trainlabels = mnist_train.targets\n",
        "(ntrain, nrow, ncol) = trainimages.size()\n",
        "npix = nrow*ncol \n",
        "npix                          # number of pixels in one image\n",
        "\n",
        "eta = 0.1  # learning rate parameter\n",
        "epsinit = 0.1  # initial scale of synaptic weights\n",
        "W = epsinit*(torch.rand([10, npix]) - 0.5)  # random initialization of weights in [-0.5, 0.5]\n",
        "B = torch.zeros(10)    # initialize bias to zero\n",
        "\n",
        "errcl = torch.zeros(ntrain)    # binary vector indicating error/correct at time t"
      ],
      "execution_count": 0,
      "outputs": []
    },
    {
      "cell_type": "code",
      "metadata": {
        "id": "SHr3vrkje8C5",
        "colab_type": "code",
        "colab": {}
      },
      "source": [
        "def visualize(t, errcl, w, x):\n",
        "    errorrate = np.divide(\n",
        "        np.cumsum(errcl[range(t)]),\n",
        "        range(1, t + 1)\n",
        "    )\n",
        "\n",
        "    cumloss = np.divide(\n",
        "        np.cumsum(loss[range(t)]),\n",
        "        range(1, t + 1)\n",
        "    )\n",
        "\n",
        "    display.clear_output(wait = True)\n",
        "\n",
        "    plt.subplot(1, 4, 1)\n",
        "    plt.matshow(w.view((28,28)), fignum = False)\n",
        "    plt.axis('off')\n",
        "    plt.title(\"weight vector at t = {:d}\".format(t))\n",
        "\n",
        "    plt.subplot(1, 4, 2)\n",
        "    plt.matshow(x.view((28,28)), fignum = False)\n",
        "    plt.axis('off')\n",
        "    plt.title(\"input vector\")\n",
        "\n",
        "    plt.subplot(1, 4, 3)\n",
        "    plt.plot(errorrate, color='red')\n",
        "    plt.title(\"average error = {:.4f}\".format(errorrate[t-1]))\n",
        "    plt.ylim(0, 1)\n",
        "    plt.xlabel('time')\n",
        "    plt.ylabel('classification error')\n",
        "\n",
        "    plt.subplot(1, 4, 4)\n",
        "    plt.plot(cumloss, color='blue')\n",
        "    plt.title(\"Cumulative loss = {:.4f}\".format(cumloss[t-1]))\n",
        "    plt.ylim(0, 3)\n",
        "    plt.xlabel('time')\n",
        "    plt.ylabel('Loss')\n",
        "\n",
        "\n",
        "\n",
        "    plt.subplots_adjust(wspace = 0.5)\n",
        "\n",
        "    plt.gcf().set_size_inches(12, 4)\n",
        "    display.display(plt.gcf())"
      ],
      "execution_count": 0,
      "outputs": []
    },
    {
      "cell_type": "code",
      "metadata": {
        "id": "SOXP4yZCo2AX",
        "colab_type": "code",
        "colab": {
          "base_uri": "https://localhost:8080/",
          "height": 295
        },
        "outputId": "b5569129-59a6-4885-d9b8-c30670c83a7e"
      },
      "source": [
        "loss = torch.zeros(ntrain)    # loss function\n",
        "t = 0             # for counting time\n",
        "tshow = 10000      # how often to visualize\n",
        "classtodetect = 2 # which digit class to detect\n",
        "#for i in torch.randperm(ntrain):     # iterate over the train steps\n",
        "for i in torch.randperm(ntrain):     # iterate over the train steps\n",
        "\n",
        "    x = trainimages[i].view(-1)                # flatten image\n",
        "    x = x.float() / 255.0                      # normalize max value to one \n",
        "    desired = trainlabels[i]  # get true label as a float\n",
        "\n",
        "    softmax = torch.nn.Softmax(dim = 0)\n",
        "    mult = torch.matmul(W, x)+B\n",
        "    prob = softmax(mult)\n",
        "    actual = np.float64(torch.argmax(prob))\n",
        "    errcl[t] = 1-np.float64(desired == actual)           # error between true and predicted\n",
        "    loss[t] = -torch.log(prob[desired])\n",
        "    t += 1\n",
        "    y = torch.zeros(10)\n",
        "    y[desired] = 1\n",
        "\n",
        "    step = softmax(mult)-y\n",
        "    delta = torch.ger(step, x)\n",
        "    W += -eta*(delta)\n",
        "    B += -eta * step                           # bias update\n",
        "\n",
        "\n",
        "    \n",
        "    if t % tshow == 0:    # visualize every tshow steps\n",
        "        visualize(t, errcl.numpy(), w, x)\n",
        "        #print(torch.sum(errcl))  \n",
        "        #print(torch.sum(loss))    \n",
        "        time.sleep(0.01)\n",
        "\n",
        "display.clear_output(wait=True)"
      ],
      "execution_count": 38,
      "outputs": [
        {
          "output_type": "display_data",
          "data": {
            "image/png": "[encoded data removed]",
            "text/plain": [
              "<Figure size 864x288 with 4 Axes>"
            ]
          },
          "metadata": {
            "tags": []
          }
        }
      ]
    },
    {
      "cell_type": "code",
      "metadata": {
        "id": "HFP87rHODtzE",
        "colab_type": "code",
        "colab": {}
      },
      "source": [
        "def montage(imgstack):\n",
        "    nimg = len(imgstack)\n",
        "    width  = int(np.ceil(np.sqrt(nimg)))\n",
        "    height = int(np.ceil(nimg / width))\n",
        "    for i in range(nimg):\n",
        "        ax = plt.subplot(height, width, i+1)\n",
        "        plt.matshow(imgstack[i],fignum = False)\n",
        "        plt.axis('off')"
      ],
      "execution_count": 0,
      "outputs": []
    },
    {
      "cell_type": "code",
      "metadata": {
        "id": "3UDolAMKEX1B",
        "colab_type": "code",
        "colab": {
          "base_uri": "https://localhost:8080/",
          "height": 248
        },
        "outputId": "8b0304fb-281b-4d4d-b780-239b14b56287"
      },
      "source": [
        "montage(W.view((10,28,28)))"
      ],
      "execution_count": 40,
      "outputs": [
        {
          "output_type": "display_data",
          "data": {
            "image/png": "[encoded data removed]",
            "text/plain": [
              "<Figure size 432x288 with 10 Axes>"
            ]
          },
          "metadata": {
            "tags": []
          }
        }
      ]
    },
    {
      "cell_type": "code",
      "metadata": {
        "id": "QRTTPcn5tD3v",
        "colab_type": "code",
        "colab": {
          "base_uri": "https://localhost:8080/",
          "height": 312
        },
        "outputId": "e1b37ae5-019f-4a23-9579-69c969d599ee"
      },
      "source": [
        "plt.plot(B, color='blue')\n",
        "plt.title(\"Bias vector\")\n",
        "plt.xlabel('Number')\n",
        "plt.ylabel('Bias')"
      ],
      "execution_count": 46,
      "outputs": [
        {
          "output_type": "execute_result",
          "data": {
            "text/plain": [
              "Text(0, 0.5, 'Bias')"
            ]
          },
          "metadata": {
            "tags": []
          },
          "execution_count": 46
        },
        {
          "output_type": "display_data",
          "data": {
            "image/png": "[encoded data removed]",
            "text/plain": [
              "<Figure size 432x288 with 1 Axes>"
            ]
          },
          "metadata": {
            "tags": []
          }
        }
      ]
    },
    {
      "cell_type": "code",
      "metadata": {
        "id": "QzJitXA90T7j",
        "colab_type": "code",
        "colab": {
          "base_uri": "https://localhost:8080/",
          "height": 52
        },
        "outputId": "7d08ea74-3534-4e28-88b9-04e972ae333b"
      },
      "source": [
        "B"
      ],
      "execution_count": 43,
      "outputs": [
        {
          "output_type": "execute_result",
          "data": {
            "text/plain": [
              "tensor([-2.6559,  0.8048,  1.5503, -0.8876,  0.1615,  7.4797, -1.4494,  3.7654,\n",
              "        -7.0656, -1.7027])"
            ]
          },
          "metadata": {
            "tags": []
          },
          "execution_count": 43
        }
      ]
    },
    {
      "cell_type": "code",
      "metadata": {
        "id": "zvsKlSiI0ktL",
        "colab_type": "code",
        "colab": {}
      },
      "source": [
        ""
      ],
      "execution_count": 0,
      "outputs": []
    }
  ]
}